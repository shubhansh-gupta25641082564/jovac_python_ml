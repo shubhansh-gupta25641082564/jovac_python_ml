{
 "cells": [
  {
   "cell_type": "markdown",
   "id": "88035fec",
   "metadata": {},
   "source": [
    "1. **What are the assumptions of linear regression?**\n",
    "   Linear regression assumes (1) a linear relationship between the predictors and the outcome, (2) independence of errors (no autocorrelation), (3) homoscedasticity (constant variance of errors), and (4) normally distributed residuals. It also assumes little to no multicollinearity among the independent variables.\n",
    "\n",
    "2. **When should you use logistic regression instead of linear regression?**\n",
    "   Use logistic regression when the dependent variable is binary or categorical rather than continuous. Unlike linear regression, logistic regression models the log‑odds of class membership and ensures predicted values lie between 0 and 1.\n",
    "\n",
    "3. **What is the interpretation of coefficients in logistic regression?**\n",
    "   A logistic regression coefficient represents the change in the log‑odds of the outcome per one‑unit increase in the predictor, holding other variables constant. Exponentiating the coefficient gives the odds ratio, which quantifies how the odds of the positive class multiply with a one‑unit change in the predictor.\n",
    "\n",
    "4. **What is the difference between sigmoid and softmax functions?**\n",
    "   The sigmoid function maps a real‑valued input to a value between 0 and 1, suitable for binary classification as it produces a single probability. The softmax generalizes this to multiclass problems by converting a vector of real‑valued scores into a probability distribution over all classes, summing to 1.\n",
    "\n",
    "5. **Why is R-squared not suitable for evaluating logistic regression models?**\n",
    "   R‑squared measures the proportion of variance explained in a continuous outcome and relies on linear residuals, which don’t apply to binary responses. Logistic regression uses likelihood-based metrics (e.g., AUC, deviance) because its errors and link function violate the assumptions underpinning R‑squared."
   ]
  }
 ],
 "metadata": {
  "language_info": {
   "name": "python"
  }
 },
 "nbformat": 4,
 "nbformat_minor": 5
}
